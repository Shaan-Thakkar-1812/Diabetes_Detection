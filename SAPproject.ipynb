{
 "cells": [
  {
   "cell_type": "code",
   "execution_count": 1,
   "id": "078fc0df-9ffb-4ce6-bc32-a828f2ea38da",
   "metadata": {},
   "outputs": [
    {
     "name": "stdout",
     "output_type": "stream",
     "text": [
      "X shape: (768, 8) X_train shape: (614, 8) X_test shape: (154, 8)\n",
      "Training Accuracy: 0.7866449511400652\n",
      "Test Accuracy: 0.7727272727272727\n",
      "Standardized input data: [[ 2.7187125   0.75443236  0.66661825 -0.09637905  0.26222798 -1.24286663\n",
      "  -0.68519336  2.02160968]]\n",
      "Prediction: [0]\n",
      "The person is NOT diabetic.\n"
     ]
    }
   ],
   "source": [
    "import numpy as np\n",
    "import pandas as pd\n",
    "from sklearn.preprocessing import StandardScaler\n",
    "from sklearn.model_selection import train_test_split\n",
    "from sklearn import svm\n",
    "from sklearn.metrics import accuracy_score\n",
    "\n",
    "# Load the dataset\n",
    "diabetes_dataset = pd.read_csv('C:/Users/shaan/OneDrive/Desktop/diabetes.csv')\n",
    "\n",
    "# Separate features and labels\n",
    "X = diabetes_dataset.drop(columns='Outcome', axis=1)\n",
    "Y = diabetes_dataset['Outcome']\n",
    "\n",
    "# Standardizing the data\n",
    "scaler = StandardScaler()\n",
    "X = scaler.fit_transform(X)  # Apply transformation correctly\n",
    "\n",
    "# Splitting the dataset\n",
    "X_train, X_test, Y_train, Y_test = train_test_split(X, Y, test_size=0.2, stratify=Y, random_state=2)\n",
    "\n",
    "# Print dataset shapes\n",
    "print(\"X shape:\", X.shape, \"X_train shape:\", X_train.shape, \"X_test shape:\", X_test.shape)\n",
    "\n",
    "# Train SVM model\n",
    "classifier = svm.SVC(kernel='linear')\n",
    "classifier.fit(X_train, Y_train)\n",
    "\n",
    "# Evaluate model\n",
    "X_train_prediction = classifier.predict(X_train)\n",
    "training_data_accuracy = accuracy_score(X_train_prediction, Y_train)\n",
    "print('Training Accuracy:', training_data_accuracy)\n",
    "\n",
    "X_test_prediction = classifier.predict(X_test)\n",
    "test_data_accuracy = accuracy_score(X_test_prediction, Y_test)\n",
    "print('Test Accuracy:', test_data_accuracy)\n",
    "\n",
    "# Input data for prediction\n",
    "#input_data = (5, 166, 72, 19, 175, 25.8, 0.587, 51)\n",
    "input_data = (13, 145, 82, 19, 110, 22.2, 0.245, 57)\n",
    "\n",
    "# Convert input data to a NumPy array\n",
    "input_data_as_numpy_array = np.asarray(input_data)\n",
    "\n",
    "# Convert to a DataFrame with correct column names to avoid warnings\n",
    "input_data_df = pd.DataFrame([input_data], columns=diabetes_dataset.columns[:-1])\n",
    "\n",
    "# Standardize the input data\n",
    "std_data = scaler.transform(input_data_df)  # Now it matches the format\n",
    "print(\"Standardized input data:\", std_data)\n",
    "\n",
    "# Make prediction\n",
    "prediction = classifier.predict(std_data)\n",
    "print(\"Prediction:\", prediction)\n",
    "\n",
    "# Output result\n",
    "if prediction[0] == 0:\n",
    "    print('The person is NOT diabetic.')\n",
    "else:\n",
    "    print('The person IS diabetic.')\n"
   ]
  },
  {
   "cell_type": "code",
   "execution_count": 7,
   "id": "269b00c4-5e73-4c47-b9b5-108f5eca7458",
   "metadata": {},
   "outputs": [],
   "source": [
    "import pickle"
   ]
  },
  {
   "cell_type": "code",
   "execution_count": 9,
   "id": "49ef3c8e-3ae8-491e-9a9d-21c053d3fcea",
   "metadata": {},
   "outputs": [],
   "source": [
    "filename = 'trained_model.sav'\n",
    "pickle.dump(classifier, open(filename, 'wb'))"
   ]
  },
  {
   "cell_type": "code",
   "execution_count": 11,
   "id": "8d82a486-3601-408e-9698-c001b353fc1f",
   "metadata": {},
   "outputs": [],
   "source": [
    "# loading the saved model\n",
    "loaded_model = pickle.load(open('trained_model.sav', 'rb'))"
   ]
  },
  {
   "cell_type": "code",
   "execution_count": 24,
   "id": "528e1433-c93b-4ad1-a2b6-dc5626da0d2e",
   "metadata": {},
   "outputs": [
    {
     "name": "stdout",
     "output_type": "stream",
     "text": [
      "Prediction: [0]\n",
      "The person is Not Diabetic\n"
     ]
    }
   ],
   "source": [
    "# ✅ Input data for prediction\n",
    "input_data = (3, 126, 88, 41, 235, 39.3, 0.704, 27)  # Modify as needed\n",
    "\n",
    "# ✅ Convert input_data into a DataFrame with correct column names\n",
    "input_data_df = pd.DataFrame([input_data], columns=diabetes_dataset.columns[:-1])\n",
    "\n",
    "# ✅ Standardize input data using the same scaler from training\n",
    "input_data_scaled = scaler.transform(input_data_df)  # 🔥 FIXED: Using `scaler`\n",
    "\n",
    "# ✅ Make prediction\n",
    "prediction = loaded_model.predict(input_data_scaled)\n",
    "\n",
    "# ✅ Output result\n",
    "print(\"Prediction:\", prediction)\n",
    "print(\"The person is\", \"Diabetic\" if prediction[0] == 1 else \"Not Diabetic\")\n"
   ]
  },
  {
   "cell_type": "code",
   "execution_count": null,
   "id": "0bfdcccb-31ee-4703-ae5a-38dd2d5a5af9",
   "metadata": {},
   "outputs": [],
   "source": []
  },
  {
   "cell_type": "code",
   "execution_count": null,
   "id": "a3b84eac-0f0a-44ec-9a80-88c288076ce1",
   "metadata": {},
   "outputs": [],
   "source": []
  }
 ],
 "metadata": {
  "kernelspec": {
   "display_name": "Python 3 (ipykernel)",
   "language": "python",
   "name": "python3"
  },
  "language_info": {
   "codemirror_mode": {
    "name": "ipython",
    "version": 3
   },
   "file_extension": ".py",
   "mimetype": "text/x-python",
   "name": "python",
   "nbconvert_exporter": "python",
   "pygments_lexer": "ipython3",
   "version": "3.12.4"
  }
 },
 "nbformat": 4,
 "nbformat_minor": 5
}
